{
  "nbformat": 4,
  "nbformat_minor": 0,
  "metadata": {
    "colab": {
      "provenance": []
    },
    "kernelspec": {
      "name": "python3",
      "display_name": "Python 3"
    },
    "language_info": {
      "name": "python"
    }
  },
  "cells": [
    {
      "cell_type": "markdown",
      "source": [
        "# **Lookalike Model**"
      ],
      "metadata": {
        "id": "Hd1icTmmlqBe"
      }
    },
    {
      "cell_type": "code",
      "source": [
        "import pandas as pd\n"
      ],
      "metadata": {
        "id": "TokhBvo6luPj"
      },
      "execution_count": 1,
      "outputs": []
    },
    {
      "cell_type": "code",
      "source": [
        "# Load datasets\n",
        "customers = pd.read_csv(\"Customers.csv\")\n",
        "products = pd.read_csv(\"Products.csv\")\n",
        "transactions = pd.read_csv(\"Transactions.csv\")"
      ],
      "metadata": {
        "id": "HzjlBt82l2gm"
      },
      "execution_count": 2,
      "outputs": []
    },
    {
      "cell_type": "code",
      "source": [
        "# Merge datasets\n",
        "merged_data = transactions.merge(customers, on=\"CustomerID\").merge(products, on=\"ProductID\")\n"
      ],
      "metadata": {
        "id": "bXk1nMfxl6T0"
      },
      "execution_count": 3,
      "outputs": []
    },
    {
      "cell_type": "code",
      "source": [
        "# Create customer-level features\n",
        "customer_features = merged_data.groupby(\"CustomerID\").agg({\n",
        "    \"TotalValue\": \"sum\",\n",
        "    \"Quantity\": \"sum\",\n",
        "    \"TransactionID\": \"count\",\n",
        "    \"Category\": lambda x: x.mode()[0]  # Most frequent category\n",
        "}).reset_index()\n",
        "\n",
        "customer_features.rename(columns={\n",
        "    \"TotalValue\": \"TotalTransactionValue\",\n",
        "    \"Quantity\": \"TotalQuantity\",\n",
        "    \"TransactionID\": \"TransactionCount\",\n",
        "    \"Category\": \"PreferredCategory\"\n",
        "}, inplace=True)"
      ],
      "metadata": {
        "id": "T__hLMx-l9BO"
      },
      "execution_count": 4,
      "outputs": []
    },
    {
      "cell_type": "code",
      "source": [
        "# Preview customer-level features\n",
        "print(customer_features.head())"
      ],
      "metadata": {
        "colab": {
          "base_uri": "https://localhost:8080/"
        },
        "id": "GTSwEeKRl_QQ",
        "outputId": "1edca77a-326d-41b9-8ada-2ca9a710426a"
      },
      "execution_count": 5,
      "outputs": [
        {
          "output_type": "stream",
          "name": "stdout",
          "text": [
            "  CustomerID  TotalTransactionValue  TotalQuantity  TransactionCount  \\\n",
            "0      C0001                3354.52             12                 5   \n",
            "1      C0002                1862.74             10                 4   \n",
            "2      C0003                2725.38             14                 4   \n",
            "3      C0004                5354.88             23                 8   \n",
            "4      C0005                2034.24              7                 3   \n",
            "\n",
            "  PreferredCategory  \n",
            "0       Electronics  \n",
            "1          Clothing  \n",
            "2        Home Decor  \n",
            "3             Books  \n",
            "4       Electronics  \n"
          ]
        }
      ]
    },
    {
      "cell_type": "markdown",
      "source": [
        "# **Build the Lookalike Model**"
      ],
      "metadata": {
        "id": "lexbfq_CmIeT"
      }
    },
    {
      "cell_type": "code",
      "source": [
        "from sklearn.metrics.pairwise import cosine_similarity\n",
        "from sklearn.preprocessing import LabelEncoder, MinMaxScaler\n"
      ],
      "metadata": {
        "id": "2o5U168ZmA4p"
      },
      "execution_count": 6,
      "outputs": []
    },
    {
      "cell_type": "code",
      "source": [
        "# Encode PreferredCategory\n",
        "label_encoder = LabelEncoder()\n",
        "customer_features[\"PreferredCategory\"] = label_encoder.fit_transform(customer_features[\"PreferredCategory\"])\n"
      ],
      "metadata": {
        "id": "aot9QWzumNNt"
      },
      "execution_count": 7,
      "outputs": []
    },
    {
      "cell_type": "code",
      "source": [
        "# Normalize numerical features\n",
        "scaler = MinMaxScaler()\n",
        "scaled_features = scaler.fit_transform(customer_features[[\"TotalTransactionValue\", \"TotalQuantity\", \"TransactionCount\", \"PreferredCategory\"]])\n"
      ],
      "metadata": {
        "id": "iYgCg8bcmQAP"
      },
      "execution_count": 8,
      "outputs": []
    },
    {
      "cell_type": "code",
      "source": [
        "# Compute similarity matrix\n",
        "similarity_matrix = cosine_similarity(scaled_features)\n",
        "customer_ids = customer_features[\"CustomerID\"].tolist()\n"
      ],
      "metadata": {
        "id": "2GOv8-xMmRql"
      },
      "execution_count": 9,
      "outputs": []
    },
    {
      "cell_type": "code",
      "source": [
        "# Generate lookalikes for the first 20 customers\n",
        "lookalike_results = {}\n",
        "for i in range(20):  # First 20 customers\n",
        "    customer_index = i\n",
        "    scores = list(enumerate(similarity_matrix[customer_index]))\n",
        "    scores = sorted(scores, key=lambda x: x[1], reverse=True)[1:4]  # Top 3 similar customers\n",
        "    lookalike_results[customer_ids[customer_index]] = [(customer_ids[idx], round(score, 2)) for idx, score in scores]\n"
      ],
      "metadata": {
        "id": "UHoDJF7QmUE6"
      },
      "execution_count": 10,
      "outputs": []
    },
    {
      "cell_type": "code",
      "source": [
        "# Save lookalikes to CSV\n",
        "lookalike_df = pd.DataFrame.from_dict(lookalike_results, orient='index', columns=[\"Lookalike1\", \"Lookalike2\", \"Lookalike3\"])\n",
        "lookalike_df.to_csv(\"FirstName_LastName_Lookalike.csv\", index=True)\n",
        "\n",
        "print(\"Lookalike recommendations saved to CSV.\")\n"
      ],
      "metadata": {
        "colab": {
          "base_uri": "https://localhost:8080/"
        },
        "id": "L03Hu4UWmWv-",
        "outputId": "8e85dc0b-f2d2-41e5-9db8-21cb77791149"
      },
      "execution_count": 11,
      "outputs": [
        {
          "output_type": "stream",
          "name": "stdout",
          "text": [
            "Lookalike recommendations saved to CSV.\n"
          ]
        }
      ]
    }
  ]
}